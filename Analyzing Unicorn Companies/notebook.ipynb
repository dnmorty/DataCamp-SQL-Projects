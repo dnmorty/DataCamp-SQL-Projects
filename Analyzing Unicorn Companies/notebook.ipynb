{
 "cells": [
  {
   "cell_type": "markdown",
   "id": "1fe66cd5-4e11-4046-9e68-016430b84ecd",
   "metadata": {},
   "source": [
    "![Hand with calculator](calculator.png \"Calculator\")\n",
    "\n",
    "Did you know that the average return from investing in stocks is 10% per year! But who wants to be average?! \n",
    "\n",
    "You have been asked to support an investment firm by analyzing trends in high-growth companies. They are interested in understanding which industries are producing the highest valuations and the rate at which new high-value companies are emerging. Providing them with this information gives them a competitive insight as to industry trends and how they should structure their portfolio looking forward.\n",
    "\n",
    "You have been given access to their `unicorns` database, which contains the following tables:\n",
    "\n",
    "`dates`  \n",
    "\n",
    "| Column       | Description                                  |  \n",
    "|------------- |--------------------------------------------- |  \n",
    "| company_id   | A unique ID for the company.                 |  \n",
    "| date_joined  | The date that the company became a unicorn.  |  \n",
    "| year_founded | The year that the company was founded.       |  \n",
    "\n",
    "`funding`  \n",
    "\n",
    "| Column           | Description                                  |  \n",
    "|----------------- |--------------------------------------------- |  \n",
    "| company_id       | A unique ID for the company.                 |  \n",
    "| valuation        | Company value in US dollars.                 |  \n",
    "| funding          | The amount of funding raised in US dollars.  |  \n",
    "| select_investors | A list of key investors in the company.      |  \n",
    "\n",
    "`industries`  \n",
    "\n",
    "| Column       | Description                                  |  \n",
    "|------------- |--------------------------------------------- |  \n",
    "| company_id   | A unique ID for the company.                 |  \n",
    "| industry     | The industry that the company operates in.   |  \n",
    "\n",
    "`companies`  \n",
    "\n",
    "| Column       | Description                                       |  \n",
    "|------------- |-------------------------------------------------- |  \n",
    "| company_id   | A unique ID for the company.                      |  \n",
    "| company      | The name of the company.                          |  \n",
    "| city         | The city where the company is headquartered.      |  \n",
    "| country      | The country where the company is headquartered.   |  \n",
    "| continent    | The continent where the company is headquartered. |  \n"
   ]
  },
  {
   "cell_type": "code",
   "execution_count": null,
   "id": "7bda904b-0b3b-4b1e-9a3d-4c4aa9b3d3d3",
   "metadata": {
    "customType": "sql",
    "dataFrameVariableName": "df",
    "initial": false,
    "integrationId": "89e17161-a224-4a8a-846b-0adc0fe7a4b1"
   },
   "outputs": [
    {
     "data": {
      "application/com.datacamp.data-table.v1+json": {
       "is_truncated": false,
       "table": {
        "data": [
         {
          "average_valuation_billions": 2.47,
          "index": 0,
          "industry": "E-commerce & direct-to-consumer",
          "num_unicorns": 47,
          "year": 2021
         },
         {
          "average_valuation_billions": 4,
          "index": 1,
          "industry": "E-commerce & direct-to-consumer",
          "num_unicorns": 16,
          "year": 2020
         },
         {
          "average_valuation_billions": 2.58,
          "index": 2,
          "industry": "E-commerce & direct-to-consumer",
          "num_unicorns": 12,
          "year": 2019
         },
         {
          "average_valuation_billions": 2.75,
          "index": 3,
          "industry": "Fintech",
          "num_unicorns": 138,
          "year": 2021
         },
         {
          "average_valuation_billions": 4.33,
          "index": 4,
          "industry": "Fintech",
          "num_unicorns": 15,
          "year": 2020
         },
         {
          "average_valuation_billions": 6.8,
          "index": 5,
          "industry": "Fintech",
          "num_unicorns": 20,
          "year": 2019
         },
         {
          "average_valuation_billions": 2.15,
          "index": 6,
          "industry": "Internet software & services",
          "num_unicorns": 119,
          "year": 2021
         },
         {
          "average_valuation_billions": 4.35,
          "index": 7,
          "industry": "Internet software & services",
          "num_unicorns": 20,
          "year": 2020
         },
         {
          "average_valuation_billions": 4.23,
          "index": 8,
          "industry": "Internet software & services",
          "num_unicorns": 13,
          "year": 2019
         }
        ],
        "schema": {
         "fields": [
          {
           "name": "index",
           "type": "integer"
          },
          {
           "name": "industry",
           "type": "string"
          },
          {
           "name": "year",
           "type": "integer"
          },
          {
           "name": "num_unicorns",
           "type": "integer"
          },
          {
           "name": "average_valuation_billions",
           "type": "number"
          }
         ],
         "pandas_version": "0.20.0",
         "primaryKey": [
          "index"
         ]
        }
       },
       "total_rows": 9
      },
      "text/html": [
       "<div>\n",
       "<style scoped>\n",
       "    .dataframe tbody tr th:only-of-type {\n",
       "        vertical-align: middle;\n",
       "    }\n",
       "\n",
       "    .dataframe tbody tr th {\n",
       "        vertical-align: top;\n",
       "    }\n",
       "\n",
       "    .dataframe thead th {\n",
       "        text-align: right;\n",
       "    }\n",
       "</style>\n",
       "<table border=\"1\" class=\"dataframe\">\n",
       "  <thead>\n",
       "    <tr style=\"text-align: right;\">\n",
       "      <th></th>\n",
       "      <th>industry</th>\n",
       "      <th>year</th>\n",
       "      <th>num_unicorns</th>\n",
       "      <th>average_valuation_billions</th>\n",
       "    </tr>\n",
       "  </thead>\n",
       "  <tbody>\n",
       "    <tr>\n",
       "      <th>0</th>\n",
       "      <td>E-commerce &amp; direct-to-consumer</td>\n",
       "      <td>2021</td>\n",
       "      <td>47</td>\n",
       "      <td>2.47</td>\n",
       "    </tr>\n",
       "    <tr>\n",
       "      <th>1</th>\n",
       "      <td>E-commerce &amp; direct-to-consumer</td>\n",
       "      <td>2020</td>\n",
       "      <td>16</td>\n",
       "      <td>4.00</td>\n",
       "    </tr>\n",
       "    <tr>\n",
       "      <th>2</th>\n",
       "      <td>E-commerce &amp; direct-to-consumer</td>\n",
       "      <td>2019</td>\n",
       "      <td>12</td>\n",
       "      <td>2.58</td>\n",
       "    </tr>\n",
       "    <tr>\n",
       "      <th>3</th>\n",
       "      <td>Fintech</td>\n",
       "      <td>2021</td>\n",
       "      <td>138</td>\n",
       "      <td>2.75</td>\n",
       "    </tr>\n",
       "    <tr>\n",
       "      <th>4</th>\n",
       "      <td>Fintech</td>\n",
       "      <td>2020</td>\n",
       "      <td>15</td>\n",
       "      <td>4.33</td>\n",
       "    </tr>\n",
       "    <tr>\n",
       "      <th>5</th>\n",
       "      <td>Fintech</td>\n",
       "      <td>2019</td>\n",
       "      <td>20</td>\n",
       "      <td>6.80</td>\n",
       "    </tr>\n",
       "    <tr>\n",
       "      <th>6</th>\n",
       "      <td>Internet software &amp; services</td>\n",
       "      <td>2021</td>\n",
       "      <td>119</td>\n",
       "      <td>2.15</td>\n",
       "    </tr>\n",
       "    <tr>\n",
       "      <th>7</th>\n",
       "      <td>Internet software &amp; services</td>\n",
       "      <td>2020</td>\n",
       "      <td>20</td>\n",
       "      <td>4.35</td>\n",
       "    </tr>\n",
       "    <tr>\n",
       "      <th>8</th>\n",
       "      <td>Internet software &amp; services</td>\n",
       "      <td>2019</td>\n",
       "      <td>13</td>\n",
       "      <td>4.23</td>\n",
       "    </tr>\n",
       "  </tbody>\n",
       "</table>\n",
       "</div>"
      ],
      "text/plain": [
       "                          industry  year  num_unicorns  \\\n",
       "0  E-commerce & direct-to-consumer  2021            47   \n",
       "1  E-commerce & direct-to-consumer  2020            16   \n",
       "2  E-commerce & direct-to-consumer  2019            12   \n",
       "3                          Fintech  2021           138   \n",
       "4                          Fintech  2020            15   \n",
       "5                          Fintech  2019            20   \n",
       "6     Internet software & services  2021           119   \n",
       "7     Internet software & services  2020            20   \n",
       "8     Internet software & services  2019            13   \n",
       "\n",
       "   average_valuation_billions  \n",
       "0                        2.47  \n",
       "1                        4.00  \n",
       "2                        2.58  \n",
       "3                        2.75  \n",
       "4                        4.33  \n",
       "5                        6.80  \n",
       "6                        2.15  \n",
       "7                        4.35  \n",
       "8                        4.23  "
      ]
     },
     "execution_count": 2,
     "metadata": {},
     "output_type": "execute_result"
    }
   ],
   "source": [
    "DROP TABLE IF EXISTS top_industries\n",
    ";\n",
    "\n",
    "SELECT \n",
    "\tindustry,\n",
    "    count(*) AS industry_count\n",
    "INTO top_industries\n",
    "FROM industries AS i\n",
    "LEFT JOIN dates AS d\n",
    "\tON i.company_id = d.company_id\n",
    "WHERE EXTRACT(YEAR FROM d.date_joined) BETWEEN 2019 AND 2021\n",
    "GROUP BY industry\n",
    "ORDER BY industry_count DESC\n",
    "LIMIT 3\n",
    ";\n",
    "\n",
    "DROP TABLE IF EXISTS company_valuations\n",
    ";\n",
    "\n",
    "SELECT \n",
    "\ti.industry, \n",
    "    EXTRACT(YEAR FROM d.date_joined) AS year,\n",
    "    f.valuation,\n",
    "    t.industry_count\n",
    "INTO company_valuations\n",
    "FROM funding AS f\n",
    "JOIN industries AS i\n",
    "\tON i.company_id = f.company_id\n",
    "JOIN dates AS d\n",
    "\tON i.company_id = d.company_id\n",
    "INNER JOIN top_industries AS t\n",
    "\tON i.industry = t.industry\n",
    "WHERE EXTRACT(YEAR FROM d.date_joined) BETWEEN 2019 AND 2021\n",
    ";\n",
    "\n",
    "\n",
    "SELECT \n",
    "\tindustry,\n",
    "    year,\n",
    "    count(*) AS num_unicorns,\n",
    "    ROUND(AVG(valuation) / 1E9, 2) AS average_valuation_billions\n",
    "FROM company_valuations\n",
    "GROUP BY industry, industry_count, year\n",
    "ORDER BY industry, year DESC\n",
    ";"
   ]
  }
 ],
 "metadata": {
  "colab": {
   "name": "Welcome to DataCamp Workspaces.ipynb",
   "provenance": []
  },
  "editor": "DataCamp Workspace",
  "kernelspec": {
   "display_name": "Python 3",
   "language": "python",
   "name": "python3"
  },
  "language_info": {
   "codemirror_mode": {
    "name": "ipython",
    "version": 3
   },
   "file_extension": ".py",
   "mimetype": "text/x-python",
   "name": "python",
   "nbconvert_exporter": "python",
   "pygments_lexer": "ipython3",
   "version": "3.8.8"
  }
 },
 "nbformat": 4,
 "nbformat_minor": 5
}
